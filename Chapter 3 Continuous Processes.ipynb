{
 "cells": [
  {
   "cell_type": "markdown",
   "id": "16ca5939-01c9-489a-8679-959a4790bd4c",
   "metadata": {},
   "source": [
    "_Glory to Jesus Christ!_\n",
    "# Financial Calculus: An introduction to derivative pricing.\n",
    "## Chapter 3: Continuous Processes"
   ]
  },
  {
   "cell_type": "code",
   "execution_count": null,
   "id": "91079699-ea2e-45fa-8fca-5354dce2f74f",
   "metadata": {},
   "outputs": [],
   "source": []
  }
 ],
 "metadata": {
  "kernelspec": {
   "display_name": "Julia 1.8.0",
   "language": "julia",
   "name": "julia-1.8"
  },
  "language_info": {
   "file_extension": ".jl",
   "mimetype": "application/julia",
   "name": "julia",
   "version": "1.8.2"
  }
 },
 "nbformat": 4,
 "nbformat_minor": 5
}
