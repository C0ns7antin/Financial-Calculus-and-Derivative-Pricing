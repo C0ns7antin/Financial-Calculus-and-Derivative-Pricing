{
 "cells": [
  {
   "cell_type": "markdown",
   "id": "ae30df14-57d2-47f8-a8b8-ac6b96abaa96",
   "metadata": {},
   "source": [
    "*Glory to Jesus Christ!*\n",
    "# Financial Calculus: An introduction to derivative pricing.\n",
    "## Chapter 2: Discrete Processes"
   ]
  },
  {
   "cell_type": "markdown",
   "id": "97c3e5a3-b1f4-4855-9e42-e48c65bc91be",
   "metadata": {},
   "source": [
    "Our mathematical framework must be a realistic model of financial markets, and yet structured enough to support construction techniques. We will start small, and with discrete time-ticks. Over one time-tick, we start at $t=0$ and end at $t=\\delta t$."
   ]
  },
  {
   "cell_type": "markdown",
   "id": "356e970c-081b-4518-831b-3659a5cea5bb",
   "metadata": {},
   "source": [
    "### Chapter 2.1: The Binomial Branch Model\n",
    "\n",
    "To begin, we need something random to represent a stock, and something to represent the time-value of money (a bond). Without this, our model cannot claim to be related to the real financial market. Let's consider the simplest possible model. Over one time-tick, we start at $t=0$ and end at $t=\\delta t$. \n",
    "\n",
    "#### The Stock\n",
    "The stock needs a random component. Suppose only two things can happen over the time interval: a move up, or a move down. We can represent this as a branch:"
   ]
  },
  {
   "cell_type": "markdown",
   "id": "b84d1de1-a021-4767-8b21-91a590d11c48",
   "metadata": {},
   "source": [
    "![figure2.1](figure2-1.png)"
   ]
  },
  {
   "cell_type": "markdown",
   "id": "dba725fb-5361-4adf-b3b5-da142e8d6d1d",
   "metadata": {},
   "source": [
    "To structure our randomness, we assign probability $p$ to the move up to node 3, and probability $1-p$ to the move down to node 2. The value of the stock at start will be $s_1$, a price at which we imagine the stock can be bought or sold in unlimited amounts. At time $t = \\delta t$, there is no charge for having held the stock, though the holding will have a new value. If it moves down to node 2, then it will have value $s_2$; else, value $s_3$ at node 3."
   ]
  },
  {
   "cell_type": "markdown",
   "id": "4b82cee9-4b1b-4d21-8542-7e3270a2f47a",
   "metadata": {},
   "source": [
    "#### The Bond\n",
    "\n",
    "A cash bond will represent an amount which we can lend or borrow in arbitrary size, with respect to the time-value of money. A continuously compounded interest rate $r$ will hold for one time-tick. We represent this with a cash bond $B$ which can be bought or sold at $t=0$ for price $B_0$, and which will be worth $B_0e^{r\\delta t}$ one tick later.\n"
   ]
  },
  {
   "cell_type": "markdown",
   "id": "e3d32e78-3da2-47c5-9102-a77182bf665e",
   "metadata": {},
   "source": [
    "#### Risk-free construction\n",
    "\n",
    "Using these two instruments, we can construct a primitive financial world. So, what class of functions $f$ emerge as explicitly constructible?  We've already shown that the forward can be in chapter 1: buy the stock (cost: $s_1$), and sell cash bonds to fund the purchase. At the end of the period, hand the stock over and demand $s_1e^{r\\delta t}$ in exchange. Via arbitrage, the price $k$ of the forward ought to be exactly $s_1e^{r\\delta t}$.\n",
    "\n",
    "For more our new, more complex $f$: we can know \n",
    "$$\\mathbb{E}(f) = (1-p)f(2) + pf(3)$$\n",
    "In fact, we can formally express the expected value of the derivative at the end of the period this way:\n",
    "> #### Expectation for a branch\n",
    "> Let $S$ be a binomial branch process with base value $s_1$ at time zero, down-value $s_2$, and up-value $s_3$. Then, the expectation of $S$ at tick-time 1 under the probability of an up-move $p$ is: $$\\mathbb{E}_p(S_1) = (1-p)s_2 + ps_3$$\n",
    "\n",
    "but because of the randomization, we don't know its *actual* value in advance. "
   ]
  },
  {
   "cell_type": "markdown",
   "id": "9e717608-3927-4815-a8d5-569426e34d75",
   "metadata": {},
   "source": [
    "#### Bond-only Strategy\n",
    "\n",
    "Consider a cash-bond-only portfolio.\n",
    "Buying bonds of value $e^{rT}((1-p)f(2)+pf(3))$ at period start will provide a value of $(1-p)f(2)+pf(3)$ by period end. Ultimately, we can only talk of the expectation of $f$, because it's just as much of a random variable as $S_1$ is.\n",
    "\n",
    "But (because we can use cash bonds to meaningfully aim for the expectation of the claim), our construction-strategy can at least be *expected* to break even, and the value of the starting portfolio of cash bonds can be considered a good predictor of the derivative at the start of the period. The predicted derivative price is the discounted expectation of its value at the end.\n",
    "\n",
    "*Unfortunately, this is basically just the strong-law from chapter 1, disguised as a construction-strategy. It has the same problem, namely that the price isn't coerced and is thus vulnerable to arbitrage. It's not good enough.*"
   ]
  },
  {
   "cell_type": "markdown",
   "id": "ae12de15-a614-4011-b34f-0d32b66e2270",
   "metadata": {},
   "source": [
    "#### Stocks and Bonds Together\n",
    "We need to construct an instrument which will stand for the value of the derivative itself, and not just an expected value.\n",
    "\n",
    "Recall that we are trying to simulate $f(3)$ and $f(2)$. Consider a portfolio $(\\phi, \\psi)$, with representing quantity of stock $S$ (worth $s_1$ each) and cash bond $B$ (worth $B_0$ each) respectively. At time zero, buying this portfolio costs $$\\phi s_1 + \\psi B_0$$\n",
    "but, one tick later it is worth one of the following two values:\n",
    "\n",
    "$\\phi s_3 + \\psi B_0 e^{r\\delta t}$ , after an up-move.\n",
    "\n",
    "$\\phi s_2 + \\psi B_0 e^{r\\delta t}$ , after a down-move.\n",
    "\n",
    "We need to solve\n",
    "\n",
    "$\\phi s_3 + \\psi B_0 e^{r\\delta t} = f(3)$\n",
    "\n",
    "$\\phi s_2 + \\psi B_0 e^{r\\delta t} = f(2)$\n",
    "\n",
    "Unless $s_2 = s_3$ (an aberrant case in which case $S$ is a bond and not a stock), the solutions are:\n",
    "\n",
    "$$ \\phi = \\frac{f(3) - f(2)}{s_3 - s_2} $$\n",
    "$$ \\psi = B_0^{-1} e^{-r\\delta t}(f(3) - \\frac{s_3(f(3)-f(2))}{s_3 - s_2}) $$\n",
    "which may also be expressed (you will later understand why I mention this trivial factoid)\n",
    "$$ \\phi = \\frac{f(2) - f(3)}{s_2 - s_3} $$\n",
    "$$ \\psi = B_0^{-1} e^{-r\\delta t}(f(2) - \\frac{s_2(f(2)-f(3))}{s_2 - s_3}) $$\n",
    "\n",
    "If the stock moves up, then the portfolio becomes worth $f(3)$:\n",
    "\n",
    "If it moves down, then the portfolio becomes worth $f(2)$:"
   ]
  },
  {
   "cell_type": "markdown",
   "id": "4ad39f3b-98ae-4f8f-aab2-2d850ad11421",
   "metadata": {},
   "source": [
    "#### The Price is Right\n",
    "Now that we have synthesized the derivative through construction, we have arbitrage at our disposal, and can enforce this rational price upon the market. Picture a portfolio $(\\phi, \\psi)$ valued:\n",
    "\n",
    "$$ V = s_1 \\frac{f(3) - f(2)}{s_3 - s_2} + e^{-r\\delta t}(f(3) - \\frac{s_3(f(3)-f(2))}{s_3 - s_2}) $$\n",
    "\n",
    "Anybody selling the derivative for a price $P$ less than $V$ suffers: Somebody could buy it, and sell the constructed $(\\phi, \\psi)$ portfolio, canceling the future value of the derivative exactly (but having netted a profit $V-P$). Similarly, anybody selling the derivative for more than V could be taken advantage of by somebody buying the $(\\phi, \\psi)$ portfolio and selling the derivative to the premium buyer, for profits $P-V$.\n",
    "\n",
    "\n",
    "Arbitrage has enforced a price.\n",
    "\n",
    "#### Example\n",
    "\n",
    "Let there exist an interest-free bond, and a stock. Both are initially priced at $1$. At the end of the next tick, the stock is worth either $2$ or $0.50$. *What is the value of a bet which pays $1$ if the stock goes up?*"
   ]
  },
  {
   "cell_type": "code",
   "execution_count": null,
   "id": "7da862d6-9925-4b8c-aa05-24cb2f22654f",
   "metadata": {},
   "outputs": [],
   "source": [
    "# Approximate the value of a bet on a stock movement.\n",
    "\n",
    "function ϕ(f_2, f_3, s_2, s_3)\n",
    "    return (f_3 - f_2)/(s_3 - s_2)\n",
    "end\n",
    "\n",
    "function timevalue(r, δt)\n",
    "    return ℯ^(r*δt)\n",
    "end\n",
    "\n",
    "function ψ(B_0, f_2, f_3, s_2, s_3, t_v)\n",
    "    return (B_0*t_v)^-1 * (f_3 - s_3*(f_3 - f_2)/(s_3 - s_2))\n",
    "end\n",
    "\n"
   ]
  },
  {
   "cell_type": "markdown",
   "id": "98a215ed-2f23-4dcf-a3d3-d301e487f108",
   "metadata": {},
   "source": [
    "![figure2.2](figure2-2.png)"
   ]
  },
  {
   "cell_type": "markdown",
   "id": "2c6314b5-4b79-4ee2-a527-01b999583570",
   "metadata": {},
   "source": [
    "**Solution**\n",
    "\n",
    "We must create a portfolio which exactly simulates the bet's payoff, i.e. worth 1 if the stock goes up, worth 0 if the stock goes down. Then, we price that portfolio. Recall the value formulae of a portfolio containing $\\phi$ stock and $\\psi$ bond units:\n",
    "\n",
    "$\\phi s_3 + \\psi B_0 e^{r\\delta t}$ , after an up-move.\n",
    "\n",
    "$\\phi s_2 + \\psi B_0 e^{r\\delta t}$ , after a down-move.\n",
    "\n",
    "Adapt them to our problem: \n",
    "Recall $r=0$, $B_0=1$, $s_2=0.5$, $s_3=2$. Ergo:\n",
    "$$\\phi(2) + \\psi = 1, \\space \\phi(0.5) + \\psi = 0$$\n",
    "$$\\leftrightarrow \\phi(1.5) = 1$$\n",
    "$$\\leftrightarrow \\phi = \\frac{2}{3}$$\n",
    "$$\\leftrightarrow \\psi = -\\frac{1}{3}$$\n",
    "\n",
    "\n",
    "So, let $\\phi = \\frac{2}{3}, \\psi = -\\frac{1}{3}$ (i.e. borrowing 1/3 of a unit of bond). At \\$t=0$, this portfolio is worth 0.33. After an up-move, it is worth 2, and after a down-move, it is worth 0. Thus, the initial value of 0.33 must be the bet's initial value. *Note that we did not need to know the probability of the moves.*"
   ]
  },
  {
   "cell_type": "markdown",
   "id": "03911616-6a92-46fd-ac71-f7fe1e778c2b",
   "metadata": {},
   "source": [
    "#### Expectation Regained\n",
    "\n",
    "We've shown the strong-law to be useless in this model. Now, assume a rational market, and define a simplifying variable:\n",
    "$$ q = \\frac{s_1 e^{r \\delta t} - s_2}{s_3-s_2} $$\n",
    "\n",
    "We can assume that $q \\in (0,1)$ (similar to a probability?):\n",
    "- First, we may assume WLOG that $s_3 > s_2$ (that's how we defined the two).\n",
    "- Suppose $q \\leq 0 \\rightarrow s_1 e^{r \\delta t} \\leq s_2 < s_3$.\n",
    "    - Recall that if $s_1$ of bond $B$ were bought at the start of the tick-period, $s_1 e^{r \\delta t}$ would be its value at the end of the tick-period.\n",
    "    - Imagine funding stock purchases at $t_0$ (when stock price is $s_1$) by selling $s_1$ worth of cash bond, and later refunding $s_1 e^{r \\delta t}$ at $t_1$ (when stock price is $s_2$). Because $s_1 e^{r \\delta t} \\leq s_2$, this results in a risk-free profit.\n",
    "- Suppose $q \\geq 1 \\rightarrow s_2 < s_3 \\leq s_1 e^{r \\delta t}$\n",
    "    - The opposite behavior (short-selling stock now at price $s_1$, purchasing bonds, and later rebuying bonds at $s_2$ which is below price of the purchased bonds) is now profitable at no risk.\n",
    "- Like before, we can eliminate both of these imagined possibilities. Because a rational market would rout $q$ at either one of the aforementioned values, we can reasonably eliminate the possibility of it taking on those values by fiat (by specifying the structure of the market to avoid either possibility).\n",
    "- Thus, $q \\in (0,1)$\n",
    "\n",
    "Now for a magic trick, we rewrite $V$ in terms of $q$:\n",
    "$$ V = s_1 \\frac{f(3) - f(2)}{s_3 - s_2} + e^{-r\\delta t}(f(2) - \\frac{s_2(f(2)-f(3))}{s_2 - s_3}) $$\n",
    "\n",
    "$$ = s_1 \\frac{f(3) - f(2)}{s_3 - s_2} + e^{-r\\delta t}(f(2) - \\frac{s_2(f(2)-f(3))}{s_2 - s_3} \\cdot \\frac{-1}{-1}) $$\n",
    "\n",
    "$$ = s_1 \\frac{f(3) - f(2)}{s_3 - s_2} + e^{-r\\delta t}(f(2) - \\frac{s_2(f(3)-f(2))}{s_3 - s_2}) $$\n",
    "\n",
    "$$ = e^{-r\\delta t} (f(2) + \\frac{s_1 e^{r \\delta t}(f(3)-f(2))}{s_3 - s_2} - \\frac{s_2 (f(3) - f(2))}{s_3 - s_2}) $$\n",
    "\n",
    "$$ = e^{-r\\delta t} (f(2) + \\frac{s_1 e^{r \\delta t} - s_2}{s_3 - s_2} (f(3) - f(2)))$$\n",
    "\n",
    "$$ = e^{-r\\delta t} (f(2) + q(f(3) - f(2)))$$\n",
    "\n",
    "$$ = e^{-r\\delta t} ((1-q)f(2) + qf(3))$$\n",
    "\n",
    "_This is the expectation claim under $q$._ The re-appearance of the expectation operator is unsettling.\n",
    "\n",
    "Price $V$ is **not** the expected future value of the derivative; that would imply $p$'s involvement in the formula above. Instead, $V$ is the discounted _expectation_ with respect to _some number $q \\in (0,1)$._\n",
    "\n",
    "If we view the expectation operator as implying some information about the future (such as a strong-law average over many trials), then $V$ is not what we'd unconsciously call the expected value. Though it sounds pedantic, $V$ is an expectation, and not an expected value. Furthermore, this expectation gives the correct strike for a forward contract $s_1 e^{r \\delta t} $ ."
   ]
  },
  {
   "cell_type": "markdown",
   "id": "3a3d5018-3887-449b-8ded-139e0bc2c1a7",
   "metadata": {},
   "source": [
    "#### Exercise 2.1\n",
    "Show that a forward contract, struck at $k$, can be thought of as the payoff $f$, where $f(2) = s_2 - k$ and $f(3) = s_3 - k$. Now verify (using the formula for $V$) that the correct strike price is indeed $s_1 e^{r \\delta t} .$"
   ]
  },
  {
   "cell_type": "code",
   "execution_count": null,
   "id": "70c96bfa-2d34-45be-9277-c96a5547e03c",
   "metadata": {},
   "outputs": [],
   "source": []
  },
  {
   "cell_type": "markdown",
   "id": "e64eb727-ac90-4db5-8042-23fb23030817",
   "metadata": {},
   "source": [
    "### Chapter 2.2: The Binomial Tree Model\n",
    "\n",
    "Out of binary branches, we will build a binary tree. This better represents the true market.\n",
    "What remains the same, will be that our financial world has just the bond and stock instruments. What changes, will be that there are multiple time-periods of length $\\delta t$, and not just a single tick."
   ]
  },
  {
   "cell_type": "markdown",
   "id": "9a8b6b71-adff-482a-a85e-4f15c4697881",
   "metadata": {},
   "source": [
    "#### The (new) Stock"
   ]
  },
  {
   "cell_type": "markdown",
   "id": "29c9613c-6045-4356-9a02-28069588e92c",
   "metadata": {},
   "source": [
    "The very first time period (from $t=0$ to $t= \\delta t$ will be just as before. We now demarcate $S$ as the value at certain times: $S_0$ = $s_1$, but the actual value of $S_1$ has a range of possibilities ($s_2$ and $s_3$).\n",
    "\n",
    "One tick later, there are two more possibilities for the stock, _dependent on the value of $S_1$_; hence there are four possibilities. From $s_2$, $S_2$ can be either $s_4$ or $s_5$. From $s_3$, $S_2$ can be either $s_6$ or $s_7$.\n",
    "\n",
    "Ergo (see Figure 2.3), at any time tick $i \\in \\mathbb{N}$, $S$ has one of $2^i$ possible values though given the value at tick-time $i-1$, there are still only two possibilities: from node $j$, the process either goes down to node $2j$ or up to node $2j+1$.\n"
   ]
  },
  {
   "cell_type": "markdown",
   "id": "05b2ab84-63ed-400b-81c2-2977a305d8bf",
   "metadata": {},
   "source": [
    "![Figure 2.3](figure2-3.png)"
   ]
  },
  {
   "cell_type": "markdown",
   "id": "c0f6b84f-b19e-48b9-86ea-ce65c905a4f4",
   "metadata": {},
   "source": [
    "Now that we can set small $\\delta t$ divisions before the final claim time $t$, there can be many random possible values for a stock (and not just two). We only need to set $\\delta t$ small enough such that $2^t$ exceeds the number of possible prices.\n",
    "\n",
    "Note that every branch will have its own attached probability."
   ]
  },
  {
   "cell_type": "markdown",
   "id": "a23f6ab7-3e18-41cb-a024-d0e17446dc78",
   "metadata": {},
   "source": [
    "#### The (new) Cash Bond\n",
    "At first, we used a single known interest rate $r$. We can act more flexibly now, and implement a sequence of interest rates $R_0, \\ldots, R_{t-1}$ which are each known at the _start_ of the appropriate tick-period. The value of a cash bond at time $n \\delta t$ is thus $$B_0 \\text{exp}(\\sum_{i=0}^{n-1}{R_i \\delta t})$$\n",
    "When contrasting the cash bond and the stock, we find that the kinds of randomness they possess are different. Cash bond $B$ has the same structure as the time-value of money. The paid/earned interest rate may change over time, but the value of a cash holding at the *next* tick-point is always known, because it depends only on the interest rate already known at the start of that period.\n",
    "\n",
    "However to keep things simple, we will keep a constant interest rate $r$ across the tree, making the price of a cash bond at time $n \\delta t$ into $B_0 e^{r n \\delta t}$."
   ]
  },
  {
   "cell_type": "markdown",
   "id": "88fe3018-8ffd-4952-9ffa-0251a1e70466",
   "metadata": {},
   "source": [
    "#### Backward Induction\n",
    "\n",
    "We eventually desire an understanding of the limitations of risk-free construction when underlying stocks take continuous values in continuous time. High-resolution binomial trees will be our starting point. As $\\delta t$ tends to zero, this model will suffice.\n",
    "\n",
    "Most of the hard work in this modeling was already done when examining the binary-branch model. To extend the principles of section 2.1 to an entire binomial tree is straightforward: apply backwards induction. We will extend the construction portfolio back (one tick at a time) from the claim to the required starting place.\n",
    "\n",
    "Except for those at times $0$ and $t$, nodes have one parent and two children. Hence, there is a bijective relationship between nodes and the histories of stock paths up to and including a node. In other words: for any given node, a single price-history reaches it, and for that price-history, only a single node is reached.\n",
    "\n",
    "Finally, we will insist on the finitude of the tree: there is a final time-tick at which claims are determined. A general claim can be thought of as some function on the nodes, at this claim time-horizon."
   ]
  },
  {
   "cell_type": "markdown",
   "id": "7162377e-1669-41f4-9745-303c6277860a",
   "metadata": {},
   "source": [
    "#### Two-step (A base case)\n",
    "\n",
    "We know that the expectation operator works for a single branch. Let's prove that the model works for two time-steps (three branches); then, we'll prove it works for an arbitrary _many_."
   ]
  },
  {
   "cell_type": "markdown",
   "id": "91519c69-abd0-4087-97f6-abf8f24c92af",
   "metadata": {},
   "source": [
    "![figure2.4](figure2-4.png)"
   ]
  },
  {
   "cell_type": "markdown",
   "id": "f04c00d2-523e-467d-a1be-0ae88d389727",
   "metadata": {},
   "source": [
    "Recall our constant interest rate $r$. Then, there exists a set of suitable $q_j s$ (probabilities) such that the value of the derivative at node $j$ at time-tick $i$ is:\n",
    "$$f(j) = e^{-r \\delta t} (q_j f (2j + 1) + (1 - q_j)f(2j))$$\n",
    "\n",
    "That is the discounted expectation under $q_j$ of the time-($i+1$) claim values $f(2j+1)$ and $f(2j)$. So in our two-step tree (fig 2.4), the two forks from nodes 3 to 6 and 7, and from nodes 2 to 4 and 5, are both structurally identical to the simple one-step branch. Hence, $f(3)$ comes from $f(6)$ and $f(7)$ via:\n",
    "$$ f(3) = e^{-r \\delta t}(q_3 f(7) + (1-q_3)f(6)) $$\n",
    "which can be similarly applied to $f(2)$ using $f(4)$ and $f(5)$. Recall, $q_j$ is the probability _(what?)_ $$q_j = (s_j e^{r \\delta t} - s_{2j})/(s_{2j+1} - s_{2j})$$\n",
    "So for instance:\n",
    "$$q_3 = \\frac{s_3 e^{r \\delta t} - s_6}{s_7 - s_6}$$\n",
    "Now we have a value for the claim at time 1; it's worth $f(3)$ if the first jump was up, and $f(2)$ if the first jump was down. But the initial for at time 0, from node 1 to nodes 2 and 3 also has a single-branch structure. Its value at time zero must be:\n",
    "$$f(1) = e^{-r \\delta t}(q_1 f(3) + (1 - q_1) f(2))$$\n",
    "Thus, the value of the claim at time 0 expands to the following expression when the equations above are combined:\n",
    "$$f(1) = e^{-2r \\delta t}(q_1 q_3 f(7) + q_1 (1-q_3) f(6) + (1-q_1) q_2 f(5) + (1-q_1) (1-q_2) f(4))$$"
   ]
  },
  {
   "cell_type": "markdown",
   "id": "8c054265-43a0-444b-82b6-5522ac229c3d",
   "metadata": {},
   "source": [
    "Soon, we can formally define expecation on the tree.\n",
    ">#### Remark: on path probabilities\n",
    "> The probability that the process follows a particular path through the tree is the product of the probabilities of each branch taken. For example, in fig 2.4, the chance of going up twice is the product $q_1 q_3$, the chance of going up and then down is $q_1 (1 - q_3)$, et cetera.\n",
    "> This is a case of the more general slogan that when working with independent events, the probabilities multiply.\n",
    "\n",
    ">#### Expectation on a tree\n",
    ">The expectation of some claim on the final nodes of a tree is the sum over those nodes of the claim value weighted by the proababilities of paths reaching it.\n",
    "\n",
    "For example, a two-step tree has four possible paths to the end. But each path carries two probabilities attached to it, one for the first time-step and one for the second, thus the path-probability (the probability of following any particular path) must be the probability of these.\n",
    "\n",
    "The expectation of a claim is the total of the tree's outcomes, each weighted by its path-probability. When we examine the expression derived above, it is precisely the expectation of the claims discounted by the appropriate interest-rate factor, under the probabilities corresponding to the \"probability-tree\"."
   ]
  },
  {
   "cell_type": "markdown",
   "id": "8aa939a6-8cd5-45c9-bdbb-9453cf665ba6",
   "metadata": {},
   "source": [
    "#### The Inductive Step\n",
    "\n",
    "Start at the final layer of a general tree over $n$ periods. All nodes here have claim values and are in pairs, the ends of single branchings. \n",
    "\n",
    "Consider any one of these final branchings, from a node at time $(n-1)$ to two nodes at time $n$. The results from section 2.1 provide a risk-free construction portfolio $(\\phi, \\psi)$ of stock and bond at the root of the branch that can generate the time $n$ claim amount (over a single branch, our improved stock and cash bond are indistinguishable from the stock and bond of the simpler model).\n",
    "\n",
    "Thus, the nodes at time $(n-1)$ are all roots of branches that end on the claim layer, and have arbitrage-guaranteed values for the derivative attached. Because the final layer's claims are enforced by contract, we can work back from claims at the final layer to equally strongly enforced claim-values at the layer before.\n",
    "\n",
    "That is our induction-step."
   ]
  },
  {
   "cell_type": "markdown",
   "id": "8d41efed-bd7c-4033-8a47-9d1a72d126ee",
   "metadata": {},
   "source": [
    "#### The Inductive Result\n",
    "\n",
    "By repeating the inductive step, we can sweep through the entire tree, each layer fixing the value of the derivative on the layer before. The investor filled in the nodes at the end of the tree with contractual claims, and our mathematics have filled in the rest by constructing portfolios for every branching which guarantee the correct outcome at the next step.\n",
    "\n",
    "At the root, the tree has a single value. This is the value of our final derivative claim at time-zero. Just as there is for a single branch, there is a constructed portfolio which *despite changing at each tick-time* will inexorably lead to the claim payoff required, *whatever* path the stock actually takes.\n",
    "\n",
    "These construction portfolios can be complex. Instead of a single amount $\\phi$ of stock, we now have a whole number of $\\phi$, one per node. As the stock on the tree changes, so will its amount in our portfolio. Though it may seem perverse (for a guaranteed construction procedure), the construction portfolios $(\\phi_i, \\psi_i)$ are also random, just like the stock. \n",
    "\n",
    "But, there is a vital structural difference: _they are known in time to be useful;_ unlike the stock value, they're known one step in advance.\n",
    "\n",
    "The fact that the tree is simply a bunch of branches, allows arbitrage to banish "
   ]
  },
  {
   "cell_type": "markdown",
   "id": "465fc2bc-ebb2-4a54-80f4-b2027e196664",
   "metadata": {},
   "source": []
  },
  {
   "cell_type": "markdown",
   "id": "865c364e-76e3-4a5f-83a9-c7b4f2702ae1",
   "metadata": {},
   "source": []
  },
  {
   "cell_type": "markdown",
   "id": "e4bd00aa-acd2-4059-b4f6-affeed624dbe",
   "metadata": {},
   "source": []
  },
  {
   "cell_type": "markdown",
   "id": "47aa1cbf-b623-47f1-a48f-f8e58cd8fbd2",
   "metadata": {},
   "source": []
  },
  {
   "cell_type": "code",
   "execution_count": null,
   "id": "72df0ef0-fe98-4509-a706-e5f7b2b6548b",
   "metadata": {},
   "outputs": [],
   "source": []
  }
 ],
 "metadata": {
  "kernelspec": {
   "display_name": "Julia 1.8.0",
   "language": "julia",
   "name": "julia-1.8"
  },
  "language_info": {
   "file_extension": ".jl",
   "mimetype": "application/julia",
   "name": "julia",
   "version": "1.8.2"
  }
 },
 "nbformat": 4,
 "nbformat_minor": 5
}
