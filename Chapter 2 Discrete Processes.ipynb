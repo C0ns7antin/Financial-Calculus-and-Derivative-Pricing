{
 "cells": [
  {
   "cell_type": "markdown",
   "id": "ae30df14-57d2-47f8-a8b8-ac6b96abaa96",
   "metadata": {},
   "source": [
    "*Glory to Jesus Christ!*\n",
    "# Financial Calculus: An introduction to derivative pricing.\n",
    "## Chapter 2: Discrete Processes"
   ]
  },
  {
   "cell_type": "markdown",
   "id": "97c3e5a3-b1f4-4855-9e42-e48c65bc91be",
   "metadata": {},
   "source": [
    "Our mathematical framework must be a realistic model of financial markets, and yet structured enough to support construction techniques. We will start small, and with discrete time-ticks. Over one time-tick, we start at $t=0$ and end at $t=\\delta t$."
   ]
  },
  {
   "cell_type": "markdown",
   "id": "356e970c-081b-4518-831b-3659a5cea5bb",
   "metadata": {},
   "source": [
    "### Chapter 2.1: The Binomial Branch Model\n",
    "\n",
    "To begin, we need something random to represent a stock, and something to represent the time-value of money (a bond). Without this, our model cannot claim to be related to the real financial market. Let's consider the simplest possible model. Over one time-tick, we start at $t=0$ and end at $t=\\delta t$. \n",
    "\n",
    "#### The Stock\n",
    "The stock needs a random component. Suppose only two things can happen over the time interval: a move up, or a move down. We can represent this as a branch:"
   ]
  },
  {
   "cell_type": "markdown",
   "id": "b84d1de1-a021-4767-8b21-91a590d11c48",
   "metadata": {},
   "source": [
    "![figure2.1](figure2-1.png)"
   ]
  },
  {
   "cell_type": "markdown",
   "id": "dba725fb-5361-4adf-b3b5-da142e8d6d1d",
   "metadata": {},
   "source": [
    "To structure our randomness, we assign probability $p$ to the move up to node 3, and probability $1-p$ to the move down to node 2. The value of the stock at start will be $s_1$, a price at which we imagine the stock can be bought or sold in unlimited amounts. At time $t = \\delta t$, there is no charge for having held the stock, though the holding will have a new value. If it moves down to node 2, then it will have value $s_2$; else, value $s_3$ at node 3."
   ]
  },
  {
   "cell_type": "markdown",
   "id": "4b82cee9-4b1b-4d21-8542-7e3270a2f47a",
   "metadata": {},
   "source": [
    "#### The Bond\n",
    "\n",
    "A cash bond will represent an amount which we can lend or borrow in arbitrary size, with respect to the time-value of money. A continuously compounded interest rate $r$ will hold for one time-tick. We represent this with a cash bond $B$ which can be bought or sold at $t=0$ for price $B_0$, and which will be worth $B_0e^{r\\delta t}$ one tick later.\n"
   ]
  },
  {
   "cell_type": "markdown",
   "id": "e3d32e78-3da2-47c5-9102-a77182bf665e",
   "metadata": {},
   "source": [
    "#### Risk-free construction\n",
    "\n",
    "Using these two instruments, we can construct a primitive financial world. So, what class of functions $f$ emerge as explicitly constructible?  We've already shown that the forward can be in chapter 1: buy the stock (cost: $s_1$), and sell cash bonds to fund the purchase. At the end of the period, hand the stock over and demand $s_1e^{r\\delta t}$ in exchange. Via arbitrage, the price $k$ of the forward ought to be exactly $s_1e^{r\\delta t}$.\n",
    "\n",
    "For more our new, more complex $f$: we can know \n",
    "$$\\mathbb{E}(f) = (1-p)f(2) + pf(3)$$\n",
    "In fact, we can formally express the expected value of the derivative at the end of the period this way:\n",
    "> #### Expectation for a branch\n",
    "> Let $S$ be a binomial branch process with base value $s_1$ at time zero, down-value $s_2$, and up-value $s_3$. Then, the expectation of $S$ at tick-time 1 under the probability of an up-move $p$ is: $$\\mathbb{E}_p(S_1) = (1-p)s_2 + ps_3$$\n",
    "\n",
    "but because of the randomization, we don't know its *actual* value in advance. "
   ]
  },
  {
   "cell_type": "markdown",
   "id": "9e717608-3927-4815-a8d5-569426e34d75",
   "metadata": {},
   "source": [
    "#### Bond-only Strategy\n",
    "\n",
    "Consider a cash-bond-only portfolio.\n",
    "Buying bonds of value $e^{rT}((1-p)f(2)+pf(3))$ at period start will provide a value of $(1-p)f(2)+pf(3)$ by period end. Ultimately, we can only talk of the expectation of $f$, because it's just as much of a random variable as $S_1$ is.\n",
    "\n",
    "But (because we can use cash bonds to meaningfully aim for the expectation of the claim), our construction-strategy can at least be *expected* to break even, and the value of the starting portfolio of cash bonds can be considered a good predictor of the derivative at the start of the period. The predicted derivative price is the discounted expectation of its value at the end.\n",
    "\n",
    "*Unfortunately, this is basically just the strong-law from chapter 1, disguised as a construction-strategy. It has the same problem, namely that the price isn't coerced and is thus vulnerable to arbitrage. It's not good enough.*"
   ]
  },
  {
   "cell_type": "markdown",
   "id": "ae12de15-a614-4011-b34f-0d32b66e2270",
   "metadata": {},
   "source": [
    "#### Stocks and Bonds Together\n",
    "We need to construct an instrument which will stand for the value of the derivative itself, and not just an expected value.\n",
    "\n",
    "Recall that we are trying to simulate $f(3)$ and $f(2)$. Consider a portfolio $(\\phi, \\psi)$, with representing quantity of stock $S$ (worth $s_1$ each) and cash bond $B$ (worth $B_0$ each) respectively. At time zero, buying this portfolio costs $$\\phi s_1 + \\psi B_0$$\n",
    "but, one tick later it is worth one of the following two values:\n",
    "\n",
    "$\\phi s_3 + \\psi B_0 e^{r\\delta t}$ , after an up-move.\n",
    "\n",
    "$\\phi s_2 + \\psi B_0 e^{r\\delta t}$ , after a down-move.\n",
    "\n",
    "We need to solve\n",
    "\n",
    "$\\phi s_3 + \\psi B_0 e^{r\\delta t} = f(3)$\n",
    "\n",
    "$\\phi s_2 + \\psi B_0 e^{r\\delta t} = f(2)$\n",
    "\n",
    "Unless $s_2 = s_3$ (an aberrant case in which case $S$ is a bond and not a stock), the solutions are:\n",
    "\n",
    "$$ \\phi = \\frac{f(3) - f(2)}{s_3 - s_2} $$\n",
    "$$ \\psi = B_0^{-1} e^{-r\\delta t}(f(3) - \\frac{s_3(f(3)-f(2))}{s_3 - s_2}) $$\n",
    "which may also be expressed\n",
    "$$ \\phi = \\frac{f(2) - f(3)}{s_2 - s_3} $$\n",
    "$$ \\psi = B_0^{-1} e^{-r\\delta t}(f(2) - \\frac{s_2(f(2)-f(3))}{s_2 - s_3}) $$\n",
    "\n",
    "If the stock moves up, then the portfolio becomes worth $f(3)$:\n",
    "\n",
    "If it moves down, then the portfolio becomes worth $f(2)$:"
   ]
  },
  {
   "cell_type": "markdown",
   "id": "4ad39f3b-98ae-4f8f-aab2-2d850ad11421",
   "metadata": {},
   "source": [
    "#### The Price is Right\n",
    "Now that we have synthesized the derivative through construction, we have arbitrage at our disposal, and can enforce this rational price upon the market. Picture a portfolio $(\\phi, \\psi)$ valued:\n",
    "\n",
    "$$ V = s_1 \\frac{f(3) - f(2)}{s_3 - s_2} + e^{-r\\delta t}(f(3) - \\frac{s_3(f(3)-f(2))}{s_3 - s_2}) $$\n",
    "\n",
    "Anybody selling the derivative for a price $P$ less than $V$ suffers: Somebody could buy it, and sell the constructed $(\\phi, \\psi)$ portfolio, canceling the future value of the derivative exactly (but having netted a profit $V-P$). Similarly, anybody selling the derivative for more than V could be taken advantage of by somebody buying the $(\\phi, \\psi)$ portfolio and selling the derivative to the premium buyer, for profits $P-V$.\n",
    "\n",
    "\n",
    "Arbitrage has enforced a price.\n",
    "\n",
    "#### Example\n",
    "\n",
    "Let there exist an interest-free bond, and a stock. Both are initially priced at $1$. At the end of the next tick, the stock is worth either $2$ or $0.50$. *What is the value of a bet which pays $1$ if the stock goes up?*"
   ]
  },
  {
   "cell_type": "markdown",
   "id": "98a215ed-2f23-4dcf-a3d3-d301e487f108",
   "metadata": {},
   "source": [
    "![figure2.2](figure2-2.png)"
   ]
  },
  {
   "cell_type": "markdown",
   "id": "2c6314b5-4b79-4ee2-a527-01b999583570",
   "metadata": {},
   "source": [
    "**Solution**\n",
    "\n",
    "We must create a portfolio which exactly simulates the bet's payoff, i.e. worth 1 if the stock goes up, worth 0 if the stock goes down. Then, we price that portfolio. Recall the value formulae of a portfolio containing $\\phi$ stock and $\\psi$ bond units:\n",
    "\n",
    "$\\phi s_3 + \\psi B_0 e^{r\\delta t}$ , after an up-move.\n",
    "\n",
    "$\\phi s_2 + \\psi B_0 e^{r\\delta t}$ , after a down-move.\n",
    "\n",
    "Adapt them to our problem: \n",
    "Recall $r=0$, $B_0=1$, $s_2=0.5$, $s_3=2$. Ergo:\n",
    "$$\\phi(2) + \\psi = 1, \\space \\phi(0.5) + \\psi = 0$$\n",
    "$$\\leftrightarrow \\phi(1.5) = 1$$\n",
    "$$\\leftrightarrow \\phi = \\frac{2}{3}$$\n",
    "$$\\leftrightarrow \\psi = -\\frac{1}{3}$$\n",
    "\n",
    "\n",
    "So, let $\\phi = \\frac{2}{3}, \\psi = -\\frac{1}{3}$ (i.e. borrowing 1/3 of a unit of bond). At \\$t=0$, this portfolio is worth 0.33. After an up-move, it is worth 2, and after a down-move, it is worth 0. Thus, the initial value of 0.33 must be the bet's initial value. *Note that we did not need to know the probability of the moves.*"
   ]
  },
  {
   "cell_type": "markdown",
   "id": "03911616-6a92-46fd-ac71-f7fe1e778c2b",
   "metadata": {},
   "source": [
    "#### Expectation Regained\n",
    "\n",
    "We've shown the strong-law to be useless in this model. Now, assume a rational market, and define a simplifying variable:\n",
    "$$ q = \\frac{s_1 e^{r \\delta t} - s_2}{s_3-s_2} $$\n",
    "\n",
    "We can assume that $q \\in (0,1)$ (similar to a probability?):\n",
    "- First, we may assume WLOG that $s_3 > s_2$ (that's how we defined the two).\n",
    "- Suppose $q \\leq 0 \\rightarrow s_1 e^{r \\delta t} \\leq s_2 < s_3$.\n",
    "    - Recall that if $s_1$ of bond $B$ were bought at the start of the tick-period, $s_1 e^{r \\delta t}$ would be its value at the end of the tick-period.\n",
    "    - Imagine funding stock purchases at $t_0$ (when stock price is $s_1$) by selling $s_1$ worth of cash bond, and later refunding $s_1 e^{r \\delta t}$ at $t_1$ (when stock price is $s_2$). Because $s_1 e^{r \\delta t} \\leq s_2$, this results in a risk-free profit.\n",
    "- Suppose $q \\geq 1 \\rightarrow s_2 < s_3 \\leq s_1 e^{r \\delta t}$\n",
    "    - The opposite behavior (short-selling stock now at price $s_1$, purchasing bonds, and later rebuying bonds at $s_2$ which is below price of the purchased bonds) is now profitable at no risk.\n",
    "- Like before, we can eliminate both of these imagined possibilities. Because a rational market would rout $q$ at either one of the aforementioned values, we can reasonably eliminate the possibility of it taking on those values by fiat (by specifying the structure of the market to avoid either possibility).\n",
    "- Thus, $q \\in (0,1)$\n",
    "\n",
    "Now for a magic trick, we rewrite $V$ in terms of $q$:\n",
    "$$ V = s_1 \\frac{f(3) - f(2)}{s_3 - s_2} + e^{-r\\delta t}(f(3) - \\frac{s_3(f(3)-f(2))}{s_3 - s_3}) $$\n",
    "\n",
    "$$ V = "
   ]
  },
  {
   "cell_type": "markdown",
   "id": "3a3d5018-3887-449b-8ded-139e0bc2c1a7",
   "metadata": {},
   "source": [
    "#### Exercise 2.1\n",
    "Show that a forward contract, struck at $k$, can be thought of as the payoff $f$, where $f(2) = s_2 - k$ and $f(3) = s_3 - k$. Now verify (using the formula for $V$) that the correct strike price is indeed $s_1 e^{r \\delta t} .$"
   ]
  },
  {
   "cell_type": "markdown",
   "id": "e64eb727-ac90-4db5-8042-23fb23030817",
   "metadata": {},
   "source": [
    "### Chapter 2.2: The Binomial Tree Model\n",
    "\n",
    "Out of binary branches, we will build a binary tree. This better represents the true market.\n",
    "What remains the same, will be that our financial world has just the bond and stock instruments. What changes, will be that there are multiple time-periods of length $\\delta t$, and not just a single tick."
   ]
  },
  {
   "cell_type": "markdown",
   "id": "9a8b6b71-adff-482a-a85e-4f15c4697881",
   "metadata": {},
   "source": [
    "#### The (new) Stock"
   ]
  },
  {
   "cell_type": "markdown",
   "id": "29c9613c-6045-4356-9a02-28069588e92c",
   "metadata": {},
   "source": [
    "The very first time period (from $t=0$ to $t= \\delta t$ will be just as before. We now demarcate $S$ as the value at certain times: $S_0$ = $s_1$, but the actual value of $S_1$ has a range of possibilities ($s_2 and s_3$).\n",
    "\n",
    "One tick later, there are two more possibilities for the stock, _dependent on the value of $S_1$_; hence there are four possibilities. From $s_2$, $S_2$ can be either $s_4$ or $s_5$. From $s_3$, $S_2$ can be either $s_6$ or $s_7$.\n",
    "\n",
    "Ergo (see Figure 2.3), at any time tick $i \\in \\mathbb{N}$, $S$ has one of $2^i$ possible values though given the value at tick-time $i-1$, there are still only two possibilities: from node $j$, the process either goes down to node $2j$ or up to node $2j+1$.\n"
   ]
  },
  {
   "cell_type": "markdown",
   "id": "05b2ab84-63ed-400b-81c2-2977a305d8bf",
   "metadata": {},
   "source": [
    "![Figure 2.3](figure2-3.png)"
   ]
  },
  {
   "cell_type": "markdown",
   "id": "c0f6b84f-b19e-48b9-86ea-ce65c905a4f4",
   "metadata": {},
   "source": [
    "Now that we can set small $\\delta t$ divisions before the final claim time $t$, there can be many random possible values for a stock (and not just two). We only need to set $\\delta t$ small enough."
   ]
  }
 ],
 "metadata": {
  "kernelspec": {
   "display_name": "Julia 1.8.0",
   "language": "julia",
   "name": "julia-1.8"
  },
  "language_info": {
   "file_extension": ".jl",
   "mimetype": "application/julia",
   "name": "julia",
   "version": "1.8.2"
  }
 },
 "nbformat": 4,
 "nbformat_minor": 5
}
