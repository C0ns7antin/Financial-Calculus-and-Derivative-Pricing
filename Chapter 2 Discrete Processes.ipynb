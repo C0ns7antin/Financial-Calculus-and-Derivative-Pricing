{
 "cells": [
  {
   "cell_type": "markdown",
   "id": "ae30df14-57d2-47f8-a8b8-ac6b96abaa96",
   "metadata": {},
   "source": [
    "*Glory to Jesus Christ!*\n",
    "## Chapter 2: Discrete Processes"
   ]
  },
  {
   "cell_type": "markdown",
   "id": "97c3e5a3-b1f4-4855-9e42-e48c65bc91be",
   "metadata": {},
   "source": [
    "Our mathematical framework must be a realistic model of financial markets, and yet structured enough to support construction techniques. We will start small, and with discrete time-ticks. Over one time-tick, we start at $t=0$ and end at $t=\\delta t$."
   ]
  },
  {
   "cell_type": "markdown",
   "id": "356e970c-081b-4518-831b-3659a5cea5bb",
   "metadata": {},
   "source": [
    "### Chapter 2.1: The Binomial Branch Model\n",
    "\n",
    "To begin, we need something random to represent a stock, and something to represent the time-value of money (a bond). Without this, our model cannot claim to be related to the real financial market. Let's consider the simplest possible model. Over one time-tick, we start at $t=0$ and end at $t=\\delta t$. \n",
    "\n",
    "#### The stock\n",
    "The stock needs a random component. Suppose only two things can happen over the time interval: a move up, or a move down. We can represent this as a branch:"
   ]
  },
  {
   "cell_type": "code",
   "execution_count": null,
   "id": "2fc37d3b-fb5a-421d-a427-1daf2ae6fb86",
   "metadata": {},
   "outputs": [],
   "source": []
  },
  {
   "cell_type": "markdown",
   "id": "dba725fb-5361-4adf-b3b5-da142e8d6d1d",
   "metadata": {},
   "source": [
    "To structure our randomness, we assign probability $p$ to the move up to node 3, and probability $1-p$ to the move down to node 2. The value of the stock at start will be $s_1$, a price at which we imagine the stock can be bought or sold in unlimited amounts. At time $t = \\delta t$, there is no charge for having held the stock, though the holding will have a new value. If it moves down to node 2, then it will have value $s2$; else, value $s3$ at node 3."
   ]
  },
  {
   "cell_type": "code",
   "execution_count": null,
   "id": "66e357db-5fd1-49e9-ac8e-3329665ca02f",
   "metadata": {},
   "outputs": [],
   "source": []
  },
  {
   "cell_type": "markdown",
   "id": "4b82cee9-4b1b-4d21-8542-7e3270a2f47a",
   "metadata": {},
   "source": [
    "#### The bond\n",
    "\n",
    "A cash bond will represent an amount which we can lend or borrow in arbitrary size, with respect to the time-value of money. A continuously compounded interest rate $r$ will hold for one time-tick. We represent this with a cash bond $B$ which can be bought or sold at $t=0$ for price $B_0$, and which will be worth $B_0e^{r\\delta t}$ one tick later.\n",
    "\n",
    "#### Risk-free construction\n",
    "\n",
    "Using these two instruments, we can construct a primitive financial world. So, what class of functions $f$ emerge as explicitly constructible?  We've already shown that the forward can be in chapter 1: buy the stock (cost: $s_1$), and sell cash bonds to fund the purchase. At the end of the period, hand the stock over and demand $s_1e^{r\\delta t}$ in exchange. Via arbitrage, the price $k$ of the forward ought to be exactly $s_1e^{r\\delta t}$.\n",
    "\n",
    "What about more complex $f$"
   ]
  },
  {
   "cell_type": "markdown",
   "id": "9e717608-3927-4815-a8d5-569426e34d75",
   "metadata": {},
   "source": []
  }
 ],
 "metadata": {
  "kernelspec": {
   "display_name": "Julia 1.7.2",
   "language": "julia",
   "name": "julia-1.7"
  },
  "language_info": {
   "file_extension": ".jl",
   "mimetype": "application/julia",
   "name": "julia",
   "version": "1.7.3"
  }
 },
 "nbformat": 4,
 "nbformat_minor": 5
}
