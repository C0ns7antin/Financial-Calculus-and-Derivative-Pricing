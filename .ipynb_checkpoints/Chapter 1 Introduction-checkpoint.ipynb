{
 "cells": [
  {
   "cell_type": "markdown",
   "id": "f6f80ebf-5ef7-4ed6-b22c-0991d34b16f1",
   "metadata": {},
   "source": [
    "*Glory to Jesus Christ!*\n",
    "# Financial Calculus: An introduction to derivative pricing.\n",
    "## Chapter 1: Introduction"
   ]
  },
  {
   "cell_type": "markdown",
   "id": "54f80d0e-8123-4167-a1e4-0520ccb1d1ec",
   "metadata": {},
   "source": [
    "### The Parable of the Bookmaker\n",
    "\n",
    "A bookmaker takes bets on a two-horse race.\n",
    "A very sharp bookmaker, he correctly calculates that Horse 1's chance of winning is 25%, and Horse 2's chance of winning is 75%.\n",
    "Hence, the odds are set at 3-1 against Horse 1, and 3-1 on Horse 2.\n",
    "But, popular sentiment does not reflect the bookmaker's calculations: 5000\\\\$ are bet on Horse 1, and 10000\\\\$ on Horse 2.\n",
    "\n",
    "If Horse 2 were to win, the bookmaker would make a net profit of $5000 - (1/3)*10000 = 1667\\$ $.\n",
    "But, if Horse 1 were to win, the bookmaker would make a net profit of $10000 - (3/1)*5000 = -5000\\$ $. The expected value of his profit is $25%*(-5000) + 75%*(1667) \\approx 0\\\\$ $, or exactly even. In the long term, over a number of similar but independent races, the bookmaker would break even. Until then, there is a chance of making a large loss.\n",
    "\n",
    "Instead, suppose the bookmaker had set odds **according to the wagered money**: that is, 2-1 against and 2-1 on respectively. Our new outcomes are:\n",
    "$5000 - (1/2)*10000 = 0\\$ $ should Horse 2 win, and $10000 - (2/1) * 5000 = 0\\$ $ should Horse 1 win.\n",
    "\n",
    "The bookmaker breaks even every time. The outcome is irrelevant. In practice, the bookmaker sells more than 100% of the race, and shortens the odds for profit. However, the same pattern emerges: for the bookmaker to extract a steady riskless income, he assumes the horse's chances from the amounts of money wagered, and not from what they are in reality.\n",
    "\n",
    "This puts the bookmaker in the surprising position of being uninterested in the outcome of the race. His profit is assured."
   ]
  },
  {
   "cell_type": "markdown",
   "id": "08105431-edbd-476d-9f81-a6fe1edf03e5",
   "metadata": {},
   "source": [
    "### Expectation Pricing"
   ]
  },
  {
   "cell_type": "code",
   "execution_count": null,
   "id": "9ed17139-c4c6-4e28-92ce-d725eee3b2f7",
   "metadata": {},
   "outputs": [],
   "source": []
  }
 ],
 "metadata": {
  "kernelspec": {
   "display_name": "Julia 1.7.2",
   "language": "julia",
   "name": "julia-1.7"
  },
  "language_info": {
   "file_extension": ".jl",
   "mimetype": "application/julia",
   "name": "julia",
   "version": "1.7.3"
  }
 },
 "nbformat": 4,
 "nbformat_minor": 5
}
